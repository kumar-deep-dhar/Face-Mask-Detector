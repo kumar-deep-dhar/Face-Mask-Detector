{
 "cells": [
  {
   "cell_type": "markdown",
   "metadata": {},
   "source": [
    "# Importing All  The Important Libraries"
   ]
  },
  {
   "cell_type": "code",
   "execution_count": 1,
   "metadata": {},
   "outputs": [],
   "source": [
    "from tensorflow.keras.preprocessing.image import ImageDataGenerator\n",
    "from tensorflow.keras.applications import MobileNetV2\n",
    "from tensorflow.keras.layers import AveragePooling2D\n",
    "from tensorflow.keras.layers import Dropout\n",
    "from tensorflow.keras.layers import Flatten\n",
    "from tensorflow.keras.layers import Dense\n",
    "from tensorflow.keras.layers import Input\n",
    "from tensorflow.keras.models import Model\n",
    "from tensorflow.keras.optimizers import Adam\n",
    "from tensorflow.keras.applications.mobilenet_v2 import preprocess_input\n",
    "from tensorflow.keras.preprocessing.image import img_to_array\n",
    "from tensorflow.keras.preprocessing.image import load_img\n",
    "from tensorflow.keras.utils import to_categorical\n",
    "from sklearn.preprocessing import LabelBinarizer\n",
    "from sklearn.model_selection import train_test_split\n",
    "from imutils import paths\n",
    "import matplotlib.pyplot as plt\n",
    "import numpy as np\n",
    "import os"
   ]
  },
  {
   "cell_type": "code",
   "execution_count": 2,
   "metadata": {},
   "outputs": [],
   "source": [
    "imagePaths = list(paths.list_images('C:/Users/Kumar Deep/Downloads/face-mask-dataset/Dataset/train/train'))\n",
    "data = []\n",
    "labels = []\n",
    "# loop over the image paths\n",
    "for imagePath in imagePaths:\n",
    "\t# extract the class label from the filename\n",
    "\tlabel = imagePath.split(os.path.sep)[-2]\n",
    "\t# load the input image (224x224) and preprocess it\n",
    "\timage = load_img(imagePath, target_size=(224, 224))\n",
    "\timage = img_to_array(image)\n",
    "\timage = preprocess_input(image)\n",
    "\t# update the data and labels lists, respectively\n",
    "\tdata.append(image)\n",
    "\tlabels.append(label)\n",
    "# convert the data and labels to NumPy arrays\n",
    "data = np.array(data, dtype=\"float32\")\n",
    "labels = np.array(labels)\n"
   ]
  },
  {
   "cell_type": "code",
   "execution_count": 3,
   "metadata": {},
   "outputs": [],
   "source": [
    "baseModel = MobileNetV2(weights=\"imagenet\", include_top=False,\n",
    "\tinput_shape=(224, 224, 3))\n",
    "# construct the head of the model that will be placed on top of the\n",
    "# the base model\n",
    "headModel = baseModel.output\n",
    "headModel = AveragePooling2D(pool_size=(7, 7))(headModel)\n",
    "headModel = Flatten(name=\"flatten\")(headModel)\n",
    "headModel = Dense(128, activation=\"relu\")(headModel)\n",
    "headModel = Dropout(0.5)(headModel)\n",
    "headModel = Dense(2, activation=\"softmax\")(headModel)\n",
    "\n",
    "# place the head FC model on top of the base model (this will become\n",
    "# the actual model we will train)\n",
    "model = Model(inputs=baseModel.input, outputs=headModel)\n",
    "# loop over all layers in the base model and freeze them so they will\n",
    "for layer in baseModel.layers:\n",
    "\tlayer.trainable = False"
   ]
  },
  {
   "cell_type": "code",
   "execution_count": 4,
   "metadata": {},
   "outputs": [],
   "source": [
    "lb = LabelBinarizer()\n",
    "labels = lb.fit_transform(labels)\n",
    "labels = to_categorical(labels)\n",
    "# partition the data into training and testing splits using 80% of the data for training and the remaining 20% for testing\n",
    "(trainX, testX, trainY, testY) = train_test_split(data, labels,\n",
    "\ttest_size=0.20, stratify=labels, random_state=42)\n",
    "# construct the training image generator for data augmentation\n",
    "aug = ImageDataGenerator(\n",
    "\trotation_range=20,\n",
    "\tzoom_range=0.15,\n",
    "\twidth_shift_range=0.2,\n",
    "\theight_shift_range=0.2,\n",
    "\tshear_range=0.15,\n",
    "\thorizontal_flip=True,\n",
    "\tfill_mode=\"nearest\")"
   ]
  },
  {
   "cell_type": "code",
   "execution_count": 5,
   "metadata": {},
   "outputs": [
    {
     "name": "stdout",
     "output_type": "stream",
     "text": [
      "[INFO] compiling model...\n",
      "[INFO] training head...\n",
      "WARNING:tensorflow:sample_weight modes were coerced from\n",
      "  ...\n",
      "    to  \n",
      "  ['...']\n",
      "Train for 25 steps, validate on 202 samples\n",
      "Epoch 1/20\n",
      "25/25 [==============================] - 104s 4s/step - loss: 0.7580 - accuracy: 0.6266 - val_loss: 0.4304 - val_accuracy: 0.7604\n",
      "Epoch 2/20\n",
      "25/25 [==============================] - 89s 4s/step - loss: 0.4565 - accuracy: 0.7674 - val_loss: 0.3169 - val_accuracy: 0.8281\n",
      "Epoch 3/20\n",
      "25/25 [==============================] - 104s 4s/step - loss: 0.3341 - accuracy: 0.8579 - val_loss: 0.2100 - val_accuracy: 0.9062\n",
      "Epoch 4/20\n",
      "25/25 [==============================] - 103s 4s/step - loss: 0.2689 - accuracy: 0.8979 - val_loss: 0.1549 - val_accuracy: 0.9427\n",
      "Epoch 5/20\n",
      "25/25 [==============================] - 87s 3s/step - loss: 0.2315 - accuracy: 0.9121 - val_loss: 0.1334 - val_accuracy: 0.9427\n",
      "Epoch 6/20\n",
      "25/25 [==============================] - 83s 3s/step - loss: 0.2013 - accuracy: 0.9186 - val_loss: 0.1019 - val_accuracy: 0.9531\n",
      "Epoch 7/20\n",
      "25/25 [==============================] - 84s 3s/step - loss: 0.1655 - accuracy: 0.9328 - val_loss: 0.1069 - val_accuracy: 0.9479\n",
      "Epoch 8/20\n",
      "25/25 [==============================] - 83s 3s/step - loss: 0.1615 - accuracy: 0.9406 - val_loss: 0.1096 - val_accuracy: 0.9479\n",
      "Epoch 9/20\n",
      "25/25 [==============================] - 83s 3s/step - loss: 0.1372 - accuracy: 0.9522 - val_loss: 0.1108 - val_accuracy: 0.9427\n",
      "Epoch 10/20\n",
      "25/25 [==============================] - 91s 4s/step - loss: 0.1361 - accuracy: 0.9419 - val_loss: 0.1005 - val_accuracy: 0.9427\n",
      "Epoch 11/20\n",
      "25/25 [==============================] - 85s 3s/step - loss: 0.1207 - accuracy: 0.9612 - val_loss: 0.0896 - val_accuracy: 0.9583\n",
      "Epoch 12/20\n",
      "25/25 [==============================] - 88s 4s/step - loss: 0.1085 - accuracy: 0.9612 - val_loss: 0.0933 - val_accuracy: 0.9479\n",
      "Epoch 13/20\n",
      "25/25 [==============================] - 84s 3s/step - loss: 0.1192 - accuracy: 0.9561 - val_loss: 0.0878 - val_accuracy: 0.9531\n",
      "Epoch 14/20\n",
      "25/25 [==============================] - 83s 3s/step - loss: 0.1001 - accuracy: 0.9664 - val_loss: 0.0762 - val_accuracy: 0.9635\n",
      "Epoch 15/20\n",
      "25/25 [==============================] - 88s 4s/step - loss: 0.1079 - accuracy: 0.9561 - val_loss: 0.0884 - val_accuracy: 0.9479\n",
      "Epoch 16/20\n",
      "25/25 [==============================] - 87s 3s/step - loss: 0.1030 - accuracy: 0.9599 - val_loss: 0.0853 - val_accuracy: 0.9531\n",
      "Epoch 17/20\n",
      "25/25 [==============================] - 84s 3s/step - loss: 0.0903 - accuracy: 0.9664 - val_loss: 0.0597 - val_accuracy: 0.9688\n",
      "Epoch 18/20\n",
      "25/25 [==============================] - 83s 3s/step - loss: 0.0747 - accuracy: 0.9755 - val_loss: 0.0703 - val_accuracy: 0.9583\n",
      "Epoch 19/20\n",
      "25/25 [==============================] - 89s 4s/step - loss: 0.0847 - accuracy: 0.9716 - val_loss: 0.0974 - val_accuracy: 0.9427\n",
      "Epoch 20/20\n",
      "25/25 [==============================] - 90s 4s/step - loss: 0.0774 - accuracy: 0.9677 - val_loss: 0.1009 - val_accuracy: 0.9479\n"
     ]
    }
   ],
   "source": [
    "INIT_LR = 1e-4\n",
    "EPOCHS = 20\n",
    "BS = 32\n",
    "print(\"[INFO] compiling model...\")\n",
    "opt = Adam(lr=INIT_LR, decay=INIT_LR / EPOCHS)\n",
    "model.compile(loss=\"binary_crossentropy\", optimizer=opt,\n",
    "\tmetrics=[\"accuracy\"])\n",
    "# train the head of the network\n",
    "print(\"[INFO] training head...\")\n",
    "H = model.fit(\n",
    "\taug.flow(trainX, trainY, batch_size=BS),\n",
    "\tsteps_per_epoch=len(trainX) // BS,\n",
    "\tvalidation_data=(testX, testY),\n",
    "\tvalidation_steps=len(testX) // BS,\n",
    "\tepochs=EPOCHS)"
   ]
  },
  {
   "cell_type": "code",
   "execution_count": 6,
   "metadata": {},
   "outputs": [
    {
     "data": {
      "text/plain": [
       "<matplotlib.legend.Legend at 0x23f955ba848>"
      ]
     },
     "execution_count": 6,
     "metadata": {},
     "output_type": "execute_result"
    },
    {
     "data": {
      "image/png": "[encoded data removed]",
      "text/plain": [
       "<Figure size 432x288 with 1 Axes>"
      ]
     },
     "metadata": {},
     "output_type": "display_data"
    }
   ],
   "source": [
    "N = EPOCHS\n",
    "plt.style.use(\"ggplot\")\n",
    "plt.figure()\n",
    "plt.plot(np.arange(0, N), H.history[\"loss\"], label=\"train_loss\")\n",
    "plt.plot(np.arange(0, N), H.history[\"val_loss\"], label=\"val_loss\")\n",
    "plt.plot(np.arange(0, N), H.history[\"accuracy\"], label=\"train_acc\")\n",
    "plt.plot(np.arange(0, N), H.history[\"val_accuracy\"], label=\"val_acc\")\n",
    "plt.title(\"Training Loss and Accuracy\")\n",
    "plt.xlabel(\"Epoch #\")\n",
    "plt.ylabel(\"Loss/Accuracy\")\n",
    "plt.legend(loc=\"lower left\")"
   ]
  },
  {
   "cell_type": "code",
   "execution_count": 11,
   "metadata": {},
   "outputs": [],
   "source": [
    "#To save the trained model\n",
    "model.save('mask_recog_ver2.h5')"
   ]
  },
  {
   "cell_type": "code",
   "execution_count": null,
   "metadata": {},
   "outputs": [],
   "source": []
  },
  {
   "cell_type": "code",
   "execution_count": null,
   "metadata": {},
   "outputs": [],
   "source": [
    "\n"
   ]
  },
  {
   "cell_type": "code",
   "execution_count": null,
   "metadata": {},
   "outputs": [],
   "source": []
  }
 ],
 "metadata": {
  "kernelspec": {
   "display_name": "Python 3",
   "language": "python",
   "name": "python3"
  },
  "language_info": {
   "codemirror_mode": {
    "name": "ipython",
    "version": 3
   },
   "file_extension": ".py",
   "mimetype": "text/x-python",
   "name": "python",
   "nbconvert_exporter": "python",
   "pygments_lexer": "ipython3",
   "version": "3.7.9"
  }
 },
 "nbformat": 4,
 "nbformat_minor": 4
}
